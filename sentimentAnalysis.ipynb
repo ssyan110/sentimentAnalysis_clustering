  {
   "cell_type": "markdown",
   "metadata": {},
   "source": [
    "**Why TF-IDF?** This weighting scheme emphasizes words that are distinctive for each review while keeping the representation sparse and interpretable."
   ]
  },
  {
   "cell_type": "markdown",
   "metadata": {},
   "source": [
    "**Why these algorithms?**\n- **Multinomial Naive Bayes** is a quick baseline for word-count features.\n- **Logistic Regression** offers a robust linear classifier with probabilities.\n- **Linear SVM** maximizes separation margins in high-dimensional text.\n- **XGBoost** models non-linear interactions for potential gains."
   ]
  },
  {
   "cell_type": "markdown",
   "metadata": {},
   "source": [
    "**Why phoBERT?** This Vietnamese Transformer captures contextual nuances beyond bag-of-words models, often boosting accuracy."
   ]
  },
  {
   "cell_type": "markdown",
   "metadata": {},
   "source": [
    "The table below ranks the models by macro F1-score to compare overall balance across sentiment classes."
   ]
  },
  {
   "cell_type": "markdown",
   "metadata": {},
   "source": [
    "**Why these clustering features?** We combine TF-IDF vectors of company reviews with scaled sentiment statistics so clusters reflect both textual content and review dynamics."
   ]
  },
  {
   "cell_type": "markdown",
   "metadata": {},
   "source": [
    "**Why these clustering algorithms?**\n- **KMeans** is a standard baseline for spherical clusters.\n- **MiniBatchKMeans** scales KMeans to larger datasets.\n- **Agglomerative clustering** uncovers hierarchical structure.\n- **DBSCAN** detects arbitrarily shaped clusters and noise."
   ]
  },
   "execution_count": null,
   "source": [
    "COMPANY_PATH = 'company_df.csv'\n",
    "company_df.to_csv(COMPANY_PATH, index=False)\n",
    "import json\n",
    "with open('cluster_terms.json','w') as f:\n",
    "    json.dump(cluster_terms, f, ensure_ascii=False, indent=2)\n",
    "print(f'Saved company features to {COMPANY_PATH} and cluster terms to cluster_terms.json')\n"
   ]
   "cell_type": "markdown",
   "source": [
    "### Streamlit Dashboard\n",
    "After generating `company_df.csv`, launch the interactive dashboard with:\n",
    "```bash\n",
    "streamlit run dashboard.py\n",
    "```\n",
    "This lets you explore cluster assignments, word clouds, and sentiment distribution for any company.\n"
   ]
}
